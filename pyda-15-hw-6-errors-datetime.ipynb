{
 "cells": [
  {
   "cell_type": "markdown",
   "metadata": {},
   "source": [
    "# Задание 1\n",
    "Печатные газеты использовали свой формат дат для каждого выпуска. Для каждой газеты из списка напишите формат указанной даты для перевода в объект datetime:\n",
    "\n",
    "The Moscow Times - Wednesday, October 2, 2002\n",
    "\n",
    "The Guardian - Friday, 11.10.13\n",
    "\n",
    "Daily News - Thursday, 18 August 1977"
   ]
  },
  {
   "cell_type": "code",
   "execution_count": 4,
   "metadata": {},
   "outputs": [
    {
     "name": "stdout",
     "output_type": "stream",
     "text": [
      "2002-10-02 00:00:00\n",
      "2013-11-10 00:00:00\n",
      "1977-08-18 00:00:00\n"
     ]
    }
   ],
   "source": [
    "from datetime import datetime\n",
    "\n",
    "moscow_times = 'Wednesday, October 2, 2002'\n",
    "moscow_times_datetime = datetime.strptime(moscow_times, '%A, %B %d, %Y')\n",
    "print(moscow_times_datetime)\n",
    "\n",
    "guardian = 'Friday, 11.10.13'\n",
    "guardian_datetime = datetime.strptime(guardian, '%A, %m.%d.%y')\n",
    "print(guardian_datetime)\n",
    "\n",
    "daily_news = 'Thursday, 18 August 1977'\n",
    "daily_news_datetime = datetime.strptime(daily_news, '%A, %d %B %Y')\n",
    "print(daily_news_datetime)"
   ]
  },
  {
   "cell_type": "markdown",
   "metadata": {},
   "source": [
    "# Задание 2\n",
    "Дан поток дат в формате YYYY-MM-DD, в которых встречаются некорректные значения:\n",
    "stream = [‘2018-04-02’, ‘2018-02-29’, ‘2018-19-02’]\n",
    "\n",
    "Напишите функцию, которая проверяет эти даты на корректность. Т. е. для каждой даты возвращает True (дата корректна) или False (некорректная дата)."
   ]
  },
  {
   "cell_type": "code",
   "execution_count": 65,
   "metadata": {},
   "outputs": [
    {
     "name": "stdout",
     "output_type": "stream",
     "text": [
      "2018-04-02 - True\n",
      "2018-02-29 - False\n",
      "2018-19-02 - False\n"
     ]
    }
   ],
   "source": [
    "import datetime \n",
    "\n",
    "def last_day_of_month(any_day):\n",
    "    next_month = any_day.replace(day=28) + datetime.timedelta(days=4)\n",
    "    return next_month - datetime.timedelta(days=next_month.day)\n",
    "\n",
    "def check_dates(stream):\n",
    "    for date in stream:\n",
    "        year = int(date[0:3])\n",
    "        month = int(date[5:7])\n",
    "        day = int(date[8:10])\n",
    "        if month in range(1, 13) and day in range(1, last_day_of_month(datetime.datetime(year, month, 1)).day+1):\n",
    "            print(date, '- True')\n",
    "        else: print(date, '- False')\n",
    "\n",
    "stream = ['2018-04-02', '2018-02-29', '2018-19-02']\n",
    "check_dates(stream)"
   ]
  },
  {
   "cell_type": "markdown",
   "metadata": {},
   "source": [
    "# Задание 3\n",
    "Напишите функцию date_range, которая возвращает список дат за период от start_date до end_date. Даты должны вводиться в формате YYYY-MM-DD. В случае неверного формата или при start_date > end_date должен возвращаться пустой список."
   ]
  },
  {
   "cell_type": "code",
   "execution_count": 94,
   "metadata": {},
   "outputs": [
    {
     "name": "stdout",
     "output_type": "stream",
     "text": [
      "Введите начальную дату в формате YYYY-MM-DD: 2020-52-11\n",
      "Введите конечную дату в формате YYYY-MM-DD: 2020-02-55\n",
      "Введены некорректные даты\n"
     ]
    }
   ],
   "source": [
    "import datetime \n",
    "\n",
    "def last_day_of_month(any_day):\n",
    "    next_month = any_day.replace(day=28) + datetime.timedelta(days=4)\n",
    "    return next_month - datetime.timedelta(days=next_month.day)\n",
    "\n",
    "def check_date(date):\n",
    "    year = int(date[0:3])\n",
    "    month = int(date[5:7])\n",
    "    day = int(date[8:10])\n",
    "    if month in range(1, 13) and day in range(1, last_day_of_month(datetime.datetime(year, month, 1)).day+1):\n",
    "        return True\n",
    "    else: return False\n",
    "\n",
    "def list_of_dates():\n",
    "    \n",
    "    start_date = input('Введите начальную дату в формате YYYY-MM-DD: ')\n",
    "    end_date = input('Введите конечную дату в формате YYYY-MM-DD: ')\n",
    "    \n",
    "    if check_date(start_date) is True and check_date(end_date) is True:\n",
    "        \n",
    "        start_date_dt = datetime.datetime.strptime(start_date, '%Y-%m-%d')\n",
    "        end_date_dt = datetime.datetime.strptime(end_date, '%Y-%m-%d')\n",
    "        \n",
    "        if start_date_dt < end_date_dt:\n",
    "            \n",
    "            current_dt = start_date_dt\n",
    "            list_of_dates = []\n",
    "\n",
    "            while current_dt <= end_date_dt:\n",
    "                list_of_dates.append(current_dt.strftime('%Y-%m-%d'))\n",
    "                current_dt += timedelta(days=1)\n",
    "\n",
    "            print(list_of_dates)\n",
    "        \n",
    "        else: print('Введённая начальная дата позже конечной')\n",
    "        \n",
    "    else: print('Введены некорректные даты')\n",
    "\n",
    "list_of_dates()"
   ]
  },
  {
   "cell_type": "markdown",
   "metadata": {},
   "source": [
    "# Задание 4 (бонусное)\n",
    "Ваш коллега прислал код функции:"
   ]
  },
  {
   "cell_type": "code",
   "execution_count": 98,
   "metadata": {},
   "outputs": [],
   "source": [
    "DEFAULT_USER_COUNT = 3\n",
    "\n",
    "def delete_and_return_last_user(region, default_list=['A100', 'A101', 'A102']):\n",
    "    element_to_delete = default_list[-1]\n",
    "    default_list.remove(element_to_delete)\n",
    "    return default_list[DEFAULT_USER_COUNT-2]"
   ]
  },
  {
   "cell_type": "markdown",
   "metadata": {},
   "source": [
    "При однократном вызове этой функции все работает корректно:"
   ]
  },
  {
   "cell_type": "code",
   "execution_count": 99,
   "metadata": {},
   "outputs": [
    {
     "data": {
      "text/plain": [
       "'A101'"
      ]
     },
     "execution_count": 99,
     "metadata": {},
     "output_type": "execute_result"
    }
   ],
   "source": [
    "delete_and_return_last_user(1)"
   ]
  },
  {
   "cell_type": "markdown",
   "metadata": {},
   "source": [
    "Однако, при повторном вызове получается ошибка IndexError: list index out of range.\n",
    "\n"
   ]
  },
  {
   "cell_type": "code",
   "execution_count": 100,
   "metadata": {},
   "outputs": [
    {
     "ename": "IndexError",
     "evalue": "list index out of range",
     "output_type": "error",
     "traceback": [
      "\u001b[1;31m---------------------------------------------------------------------------\u001b[0m",
      "\u001b[1;31mIndexError\u001b[0m                                Traceback (most recent call last)",
      "\u001b[1;32m<ipython-input-100-bfb6c4f8c48e>\u001b[0m in \u001b[0;36m<module>\u001b[1;34m\u001b[0m\n\u001b[1;32m----> 1\u001b[1;33m \u001b[0mdelete_and_return_last_user\u001b[0m\u001b[1;33m(\u001b[0m\u001b[1;36m1\u001b[0m\u001b[1;33m)\u001b[0m\u001b[1;33m\u001b[0m\u001b[1;33m\u001b[0m\u001b[0m\n\u001b[0m",
      "\u001b[1;32m<ipython-input-98-2c8b968dc8a8>\u001b[0m in \u001b[0;36mdelete_and_return_last_user\u001b[1;34m(region, default_list)\u001b[0m\n\u001b[0;32m      4\u001b[0m     \u001b[0melement_to_delete\u001b[0m \u001b[1;33m=\u001b[0m \u001b[0mdefault_list\u001b[0m\u001b[1;33m[\u001b[0m\u001b[1;33m-\u001b[0m\u001b[1;36m1\u001b[0m\u001b[1;33m]\u001b[0m\u001b[1;33m\u001b[0m\u001b[1;33m\u001b[0m\u001b[0m\n\u001b[0;32m      5\u001b[0m     \u001b[0mdefault_list\u001b[0m\u001b[1;33m.\u001b[0m\u001b[0mremove\u001b[0m\u001b[1;33m(\u001b[0m\u001b[0melement_to_delete\u001b[0m\u001b[1;33m)\u001b[0m\u001b[1;33m\u001b[0m\u001b[1;33m\u001b[0m\u001b[0m\n\u001b[1;32m----> 6\u001b[1;33m     \u001b[1;32mreturn\u001b[0m \u001b[0mdefault_list\u001b[0m\u001b[1;33m[\u001b[0m\u001b[0mDEFAULT_USER_COUNT\u001b[0m\u001b[1;33m-\u001b[0m\u001b[1;36m2\u001b[0m\u001b[1;33m]\u001b[0m\u001b[1;33m\u001b[0m\u001b[1;33m\u001b[0m\u001b[0m\n\u001b[0m",
      "\u001b[1;31mIndexError\u001b[0m: list index out of range"
     ]
    }
   ],
   "source": [
    "delete_and_return_last_user(1)"
   ]
  },
  {
   "cell_type": "markdown",
   "metadata": {},
   "source": [
    "Задание:\n",
    "\n",
    "1. Что значит ошибка list index out of range?\n",
    "2. Почему при первом запуске функция работает корректно, а при втором - нет?"
   ]
  },
  {
   "cell_type": "markdown",
   "metadata": {},
   "source": [
    "## Ответы:\n",
    "1. Ошибка list index out of range означает, что происходит обращение к элементу, которого нет в объекте, на который ссылается алгоритм.\n",
    "2. Потому что, когда во второй раз мы удаляем из списка последнего пользователя команда default_list[DEFAULT_USER_COUNT-2] не может быть выполнена - в списке остаётся всего один элемент, и второго с конца элемента просто не существует."
   ]
  }
 ],
 "metadata": {
  "kernelspec": {
   "display_name": "Python 3",
   "language": "python",
   "name": "python3"
  },
  "language_info": {
   "codemirror_mode": {
    "name": "ipython",
    "version": 3
   },
   "file_extension": ".py",
   "mimetype": "text/x-python",
   "name": "python",
   "nbconvert_exporter": "python",
   "pygments_lexer": "ipython3",
   "version": "3.8.3"
  }
 },
 "nbformat": 4,
 "nbformat_minor": 4
}
